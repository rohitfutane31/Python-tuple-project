{
 "cells": [
  {
   "cell_type": "markdown",
   "id": "9104c351-1d1a-44ee-bb1c-58c4fef042fa",
   "metadata": {},
   "source": [
    "14/08/2024 \n",
    "TUPLE \n",
    "tuple formate\n",
    "*integer\n",
    "*float\n",
    "*string\n",
    "*complex\n",
    "*mixed\n",
    "*nested"
   ]
  },
  {
   "cell_type": "code",
   "execution_count": 11,
   "id": "ab7a8ca7-cfdb-482a-8667-ae1f8ef845d2",
   "metadata": {},
   "outputs": [],
   "source": [
    "t=() #empty"
   ]
  },
  {
   "cell_type": "code",
   "execution_count": 13,
   "id": "01d2705a-077b-41d5-9a31-dd18d5fd86f6",
   "metadata": {},
   "outputs": [
    {
     "data": {
      "text/plain": [
       "tuple"
      ]
     },
     "execution_count": 13,
     "metadata": {},
     "output_type": "execute_result"
    }
   ],
   "source": [
    "type(t)"
   ]
  },
  {
   "cell_type": "code",
   "execution_count": 17,
   "id": "640c8a75-89f6-427a-94be-104261c3181c",
   "metadata": {},
   "outputs": [
    {
     "data": {
      "text/plain": [
       "(9, 8, 4, 52, 32, 0)"
      ]
     },
     "execution_count": 17,
     "metadata": {},
     "output_type": "execute_result"
    }
   ],
   "source": [
    "t=(9,8,4,52,32,0) # any value to integer number formate\n",
    "t"
   ]
  },
  {
   "cell_type": "code",
   "execution_count": 19,
   "id": "dc1e01ec-d1c1-4bda-b3c0-93259d079008",
   "metadata": {},
   "outputs": [
    {
     "data": {
      "text/plain": [
       "(1.1, 2.2, 3.3, 4.4, 5.6)"
      ]
     },
     "execution_count": 19,
     "metadata": {},
     "output_type": "execute_result"
    }
   ],
   "source": [
    "t1=(1.1,2.2,3.3,4.4,5.6) #any values to insulted float formate point\n",
    "t1"
   ]
  },
  {
   "cell_type": "code",
   "execution_count": 23,
   "id": "5cfed1a2-e7d2-40bd-a090-bb26d35c3cd8",
   "metadata": {},
   "outputs": [
    {
     "data": {
      "text/plain": [
       "('rohit', 'soham', 'dnyaneshwar', 'prasad')"
      ]
     },
     "execution_count": 23,
     "metadata": {},
     "output_type": "execute_result"
    }
   ],
   "source": [
    "t2=('rohit','soham','dnyaneshwar','prasad') #any values string formate\n",
    "t2"
   ]
  },
  {
   "cell_type": "code",
   "execution_count": 43,
   "id": "24634155-9fb9-4d66-beb5-17c1962e938a",
   "metadata": {},
   "outputs": [
    {
     "data": {
      "text/plain": [
       "((10+1j), (12+2j), (14-4j))"
      ]
     },
     "execution_count": 43,
     "metadata": {},
     "output_type": "execute_result"
    }
   ],
   "source": [
    "t3=(10+1j,12+2j,14-4j) #only use complex no using by j\n",
    "t3"
   ]
  },
  {
   "cell_type": "code",
   "execution_count": 45,
   "id": "90c6b9e6-739f-4c14-8db0-74c9e50895b3",
   "metadata": {},
   "outputs": [
    {
     "data": {
      "text/plain": [
       "(0, 10, 12.3, 14.5, 20, 'rohit', (10+1j), 0)"
      ]
     },
     "execution_count": 45,
     "metadata": {},
     "output_type": "execute_result"
    }
   ],
   "source": [
    "t4=(0,10,12.3,14.5,20,'rohit',10+1j,0)  #use mixed values \n",
    "t4 "
   ]
  },
  {
   "cell_type": "code",
   "execution_count": 49,
   "id": "15415394-c0c9-4afd-92e3-819311a8518f",
   "metadata": {},
   "outputs": [
    {
     "data": {
      "text/plain": [
       "('rohit', (10, 20, 30, 40), 'soham')"
      ]
     },
     "execution_count": 49,
     "metadata": {},
     "output_type": "execute_result"
    }
   ],
   "source": [
    "t5=('rohit',(10,20,30,40),'soham') #using nested values\n",
    "t5"
   ]
  },
  {
   "cell_type": "markdown",
   "id": "53feba8f-552b-4d37-802c-4eae78dd65ad",
   "metadata": {},
   "source": [
    "tuple\n",
    "tuple index"
   ]
  },
  {
   "cell_type": "code",
   "execution_count": 54,
   "id": "e40b3bef-6f6f-42dd-b57f-bd55edfa5939",
   "metadata": {},
   "outputs": [
    {
     "name": "stdout",
     "output_type": "stream",
     "text": [
      "(9, 8, 4, 52, 32, 0)\n"
     ]
    }
   ],
   "source": [
    "print(t)"
   ]
  },
  {
   "cell_type": "code",
   "execution_count": 58,
   "id": "d2488b44-a0a5-4d39-bdc2-8a46bd34c0b5",
   "metadata": {},
   "outputs": [
    {
     "name": "stdout",
     "output_type": "stream",
     "text": [
      "('rohit', (10, 20, 30, 40), 'soham')\n"
     ]
    }
   ],
   "source": [
    "print(t5)"
   ]
  },
  {
   "cell_type": "code",
   "execution_count": 76,
   "id": "79cab962-b7b6-4bbf-ae9c-b8bc9742ac7e",
   "metadata": {},
   "outputs": [
    {
     "data": {
      "text/plain": [
       "32"
      ]
     },
     "execution_count": 76,
     "metadata": {},
     "output_type": "execute_result"
    }
   ],
   "source": [
    "t[4] #index retrive"
   ]
  },
  {
   "cell_type": "code",
   "execution_count": 84,
   "id": "01d5c743-4d8c-466f-b7b7-00d1f078de76",
   "metadata": {},
   "outputs": [
    {
     "data": {
      "text/plain": [
       "30"
      ]
     },
     "execution_count": 84,
     "metadata": {},
     "output_type": "execute_result"
    }
   ],
   "source": [
    "t5[1][2]"
   ]
  },
  {
   "cell_type": "code",
   "execution_count": 86,
   "id": "bc3f9fec-6b6a-4dbb-b56e-72da70e32fa9",
   "metadata": {},
   "outputs": [
    {
     "data": {
      "text/plain": [
       "('rohit', 'soham', 'dnyaneshwar', 'prasad')"
      ]
     },
     "execution_count": 86,
     "metadata": {},
     "output_type": "execute_result"
    }
   ],
   "source": [
    "t2"
   ]
  },
  {
   "cell_type": "code",
   "execution_count": 88,
   "id": "e2433c66-d711-495f-a9d4-04fa963aeada",
   "metadata": {},
   "outputs": [
    {
     "data": {
      "text/plain": [
       "'soham'"
      ]
     },
     "execution_count": 88,
     "metadata": {},
     "output_type": "execute_result"
    }
   ],
   "source": [
    "t2[-3]"
   ]
  },
  {
   "cell_type": "code",
   "execution_count": 92,
   "id": "b2635cd8-08e2-4724-87df-90b6bcfd3122",
   "metadata": {},
   "outputs": [
    {
     "data": {
      "text/plain": [
       "'dnyaneshwar'"
      ]
     },
     "execution_count": 92,
     "metadata": {},
     "output_type": "execute_result"
    }
   ],
   "source": [
    "t2[2]"
   ]
  },
  {
   "cell_type": "markdown",
   "id": "82877af8-333c-4aec-b88b-96e4f1118b24",
   "metadata": {},
   "source": [
    "tuple\n",
    "tuple slicing"
   ]
  },
  {
   "cell_type": "code",
   "execution_count": 110,
   "id": "ba07f3ba-8edb-43fc-b4aa-5e076e972e2b",
   "metadata": {},
   "outputs": [],
   "source": [
    "t6=(1,2,3,4,5,6,7,8,9,0)"
   ]
  },
  {
   "cell_type": "code",
   "execution_count": 112,
   "id": "75fb7900-73e8-4dd8-a932-909fd6070ffa",
   "metadata": {},
   "outputs": [
    {
     "data": {
      "text/plain": [
       "(1, 2, 3, 4, 5, 6, 7, 8, 9, 0)"
      ]
     },
     "execution_count": 112,
     "metadata": {},
     "output_type": "execute_result"
    }
   ],
   "source": [
    "t6[:]"
   ]
  },
  {
   "cell_type": "code",
   "execution_count": 116,
   "id": "5379ec8f-d1e8-4966-b3b6-4e300d714cfc",
   "metadata": {},
   "outputs": [
    {
     "data": {
      "text/plain": [
       "(3, 4, 5, 6, 7, 8)"
      ]
     },
     "execution_count": 116,
     "metadata": {},
     "output_type": "execute_result"
    }
   ],
   "source": [
    "t6[2:8]  #total len starting to end values show"
   ]
  },
  {
   "cell_type": "code",
   "execution_count": 128,
   "id": "a623a25f-340f-4288-b775-38e36598cc7a",
   "metadata": {},
   "outputs": [
    {
     "data": {
      "text/plain": [
       "(4, 5, 6, 7, 8, 9)"
      ]
     },
     "execution_count": 128,
     "metadata": {},
     "output_type": "execute_result"
    }
   ],
   "source": [
    "t6[-7:-1] #negative staring to negative end"
   ]
  },
  {
   "cell_type": "markdown",
   "id": "f8d1faa2-c0de-4a4b-8ffb-35a1bcbe0c2c",
   "metadata": {},
   "source": [
    "tuple\n",
    "tuple removing change"
   ]
  },
  {
   "cell_type": "code",
   "execution_count": 130,
   "id": "bccabdec-c686-4677-8ede-28b8dd1d4b42",
   "metadata": {},
   "outputs": [
    {
     "data": {
      "text/plain": [
       "(1, 2, 3, 4, 5, 6, 7, 8, 9, 0)"
      ]
     },
     "execution_count": 130,
     "metadata": {},
     "output_type": "execute_result"
    }
   ],
   "source": [
    "t6"
   ]
  },
  {
   "cell_type": "code",
   "execution_count": 134,
   "id": "0bb97306-a9e5-4bb2-bff9-ac629356b513",
   "metadata": {},
   "outputs": [
    {
     "ename": "NameError",
     "evalue": "name 't6' is not defined",
     "output_type": "error",
     "traceback": [
      "\u001b[1;31m---------------------------------------------------------------------------\u001b[0m",
      "\u001b[1;31mNameError\u001b[0m                                 Traceback (most recent call last)",
      "Cell \u001b[1;32mIn[134], line 1\u001b[0m\n\u001b[1;32m----> 1\u001b[0m \u001b[38;5;28;01mdel\u001b[39;00m t6\n",
      "\u001b[1;31mNameError\u001b[0m: name 't6' is not defined"
     ]
    }
   ],
   "source": [
    "del t6 #deleted file store the data form t6"
   ]
  },
  {
   "cell_type": "markdown",
   "id": "742cebb9-9848-449e-a15d-6860e058943e",
   "metadata": {},
   "source": [
    "loop in tuple\n"
   ]
  },
  {
   "cell_type": "code",
   "execution_count": 140,
   "id": "ab820755-04a1-460f-aa02-a27c2f63cc75",
   "metadata": {},
   "outputs": [],
   "source": [
    "t7=(9,8,7,6,5,4,3,2,1,0) #new "
   ]
  },
  {
   "cell_type": "code",
   "execution_count": 152,
   "id": "7a465549-6c76-416d-948b-b1fd19d1bf9f",
   "metadata": {},
   "outputs": [
    {
     "data": {
      "text/plain": [
       "(9, 8, 7, 6, 5, 4, 3, 2, 1, 0)"
      ]
     },
     "execution_count": 152,
     "metadata": {},
     "output_type": "execute_result"
    }
   ],
   "source": [
    "t7"
   ]
  },
  {
   "cell_type": "code",
   "execution_count": 150,
   "id": "d8797645-633a-4a6b-b59e-2226b6b27442",
   "metadata": {},
   "outputs": [
    {
     "name": "stdout",
     "output_type": "stream",
     "text": [
      "9\n",
      "8\n",
      "7\n",
      "6\n",
      "5\n",
      "4\n",
      "3\n",
      "2\n",
      "1\n",
      "0\n"
     ]
    }
   ],
   "source": [
    "for i in t7:  # loop in tuple\n",
    "    print(i)"
   ]
  },
  {
   "cell_type": "code",
   "execution_count": 154,
   "id": "5fbcd396-e7fd-4e78-9060-caefdf976489",
   "metadata": {},
   "outputs": [
    {
     "name": "stdout",
     "output_type": "stream",
     "text": [
      "(0, 9)\n",
      "(1, 8)\n",
      "(2, 7)\n",
      "(3, 6)\n",
      "(4, 5)\n",
      "(5, 4)\n",
      "(6, 3)\n",
      "(7, 2)\n",
      "(8, 1)\n",
      "(9, 0)\n"
     ]
    }
   ],
   "source": [
    "for i in enumerate(t7):   #enumerate of the tuple pair funtion is calculated given\n",
    "    print(i)"
   ]
  },
  {
   "cell_type": "markdown",
   "id": "c9435363-dd42-4f29-bb40-c5ebc7145f22",
   "metadata": {},
   "source": [
    "tuple in build funtion\n",
    "*count\n",
    "*index"
   ]
  },
  {
   "cell_type": "code",
   "execution_count": 162,
   "id": "57f5e1da-6bc2-4bb5-8b5b-ca491838e448",
   "metadata": {},
   "outputs": [
    {
     "data": {
      "text/plain": [
       "(21, 22, 23, 55, 66, 75, 52, 95, 'rohit', 'soham', 75, 22, 58, 21)"
      ]
     },
     "execution_count": 162,
     "metadata": {},
     "output_type": "execute_result"
    }
   ],
   "source": [
    "t8=(21,22,23,55,66,75,52,95,'rohit','soham',75,22,58,21)\n",
    "t8"
   ]
  },
  {
   "cell_type": "code",
   "execution_count": 164,
   "id": "2be333d3-fb5a-40a3-9f32-92d160743793",
   "metadata": {},
   "outputs": [
    {
     "data": {
      "text/plain": [
       "2"
      ]
     },
     "execution_count": 164,
     "metadata": {},
     "output_type": "execute_result"
    }
   ],
   "source": [
    "t8.count(75)  #total len is count by repeted number of veriable"
   ]
  },
  {
   "cell_type": "code",
   "execution_count": 168,
   "id": "88f4f850-2ff7-4530-92b7-22a63608b5ba",
   "metadata": {},
   "outputs": [
    {
     "data": {
      "text/plain": [
       "14"
      ]
     },
     "execution_count": 168,
     "metadata": {},
     "output_type": "execute_result"
    }
   ],
   "source": [
    "len(t8)  # total len is counted by length"
   ]
  },
  {
   "cell_type": "code",
   "execution_count": 170,
   "id": "fdf34e72-e5d3-4806-925f-731209529828",
   "metadata": {},
   "outputs": [
    {
     "data": {
      "text/plain": [
       "8"
      ]
     },
     "execution_count": 170,
     "metadata": {},
     "output_type": "execute_result"
    }
   ],
   "source": [
    "t8.index('rohit') # 0 to start the total possition of save the  tuple"
   ]
  },
  {
   "cell_type": "markdown",
   "id": "d164f71f-bb8a-4629-8a88-417e778a6570",
   "metadata": {},
   "source": [
    "tuple membership\n",
    "*"
   ]
  },
  {
   "cell_type": "markdown",
   "id": "12221de4-97b1-493b-b051-dd6d5f061221",
   "metadata": {},
   "source": [
    "tuple mumbership\n",
    "*check wheather the value in tuple or not \n",
    "*true or false values"
   ]
  },
  {
   "cell_type": "code",
   "execution_count": 178,
   "id": "74883fb7-8466-4531-aca9-1a24adbb4d08",
   "metadata": {},
   "outputs": [
    {
     "data": {
      "text/plain": [
       "(21, 22, 23, 55, 66, 75, 52, 95, 'rohit', 'soham', 75, 22, 58, 21)"
      ]
     },
     "execution_count": 178,
     "metadata": {},
     "output_type": "execute_result"
    }
   ],
   "source": [
    "t8"
   ]
  },
  {
   "cell_type": "code",
   "execution_count": 180,
   "id": "b37df776-f3fa-4fd5-bcc0-e7b9318b864e",
   "metadata": {},
   "outputs": [
    {
     "data": {
      "text/plain": [
       "True"
      ]
     },
     "execution_count": 180,
     "metadata": {},
     "output_type": "execute_result"
    }
   ],
   "source": [
    "'rohit'in t8   #value is the searching to length of tuple true then not search that false"
   ]
  },
  {
   "cell_type": "code",
   "execution_count": 182,
   "id": "82fecca9-b2bc-4f1f-9c5a-7800e385f16a",
   "metadata": {},
   "outputs": [
    {
     "data": {
      "text/plain": [
       "False"
      ]
     },
     "execution_count": 182,
     "metadata": {},
     "output_type": "execute_result"
    }
   ],
   "source": [
    "25 in t8   #seaching of values to check by len show not then false"
   ]
  },
  {
   "cell_type": "markdown",
   "id": "928a1bee-80bb-42ca-97e6-dd3102cdd923",
   "metadata": {},
   "source": [
    "tuple\n",
    "sorting "
   ]
  },
  {
   "cell_type": "code",
   "execution_count": 184,
   "id": "85720d6d-e0ec-4c99-92fa-26958f6d5e79",
   "metadata": {},
   "outputs": [
    {
     "data": {
      "text/plain": [
       "(54, 65, 75, 45, 85, 52, 74, 52, 54, 13, 45, 25, 14, 45)"
      ]
     },
     "execution_count": 184,
     "metadata": {},
     "output_type": "execute_result"
    }
   ],
   "source": [
    "t9=(54,65,75,45,85,52,74,52,54,13,45,25,14,45)\n",
    "t9"
   ]
  },
  {
   "cell_type": "code",
   "execution_count": 186,
   "id": "79362aff-2b7f-4ee4-90c6-dd84ddc8c4d8",
   "metadata": {},
   "outputs": [
    {
     "data": {
      "text/plain": [
       "[13, 14, 25, 45, 45, 45, 52, 52, 54, 54, 65, 74, 75, 85]"
      ]
     },
     "execution_count": 186,
     "metadata": {},
     "output_type": "execute_result"
    }
   ],
   "source": [
    "sorted(t9)   #sorted for arrage the squeance length"
   ]
  },
  {
   "cell_type": "code",
   "execution_count": 200,
   "id": "9b51ada3-0c27-41b5-bbe8-6dcff0ce8660",
   "metadata": {},
   "outputs": [
    {
     "data": {
      "text/plain": [
       "[85, 75, 74, 65, 54, 54, 52, 52, 45, 45, 45, 25, 14, 13]"
      ]
     },
     "execution_count": 200,
     "metadata": {},
     "output_type": "execute_result"
    }
   ],
   "source": [
    "sorted(t9,reverse=True)  #sorted for arrage the reverse length"
   ]
  },
  {
   "cell_type": "markdown",
   "id": "5c456f3c-db15-4cdd-b445-b23ea21f37c6",
   "metadata": {},
   "source": [
    "Set\n",
    "*duplicated not allows\n",
    "*can not inside to add insulted  #  EX {[]} #\n"
   ]
  },
  {
   "cell_type": "code",
   "execution_count": 202,
   "id": "13fc6fd1-036f-4ff9-99f9-6d6e42fd5103",
   "metadata": {},
   "outputs": [],
   "source": [
    "d={}  # show open close blaket set "
   ]
  },
  {
   "cell_type": "code",
   "execution_count": 204,
   "id": "ea904fbc-3dbc-448c-aef9-47ae7e5afed8",
   "metadata": {},
   "outputs": [
    {
     "data": {
      "text/plain": [
       "dict"
      ]
     },
     "execution_count": 204,
     "metadata": {},
     "output_type": "execute_result"
    }
   ],
   "source": [
    "type(d)"
   ]
  },
  {
   "cell_type": "code",
   "execution_count": 206,
   "id": "76e690c5-7c62-4d0a-a138-3e4aab141890",
   "metadata": {},
   "outputs": [],
   "source": [
    "s= set ()"
   ]
  },
  {
   "cell_type": "code",
   "execution_count": 208,
   "id": "54819dd7-7e61-4f83-b8e5-060d888cdd95",
   "metadata": {},
   "outputs": [
    {
     "data": {
      "text/plain": [
       "set"
      ]
     },
     "execution_count": 208,
     "metadata": {},
     "output_type": "execute_result"
    }
   ],
   "source": [
    "type(s)"
   ]
  },
  {
   "cell_type": "code",
   "execution_count": 210,
   "id": "0f6c22b7-0ca2-4af2-8af0-2b31d0d302eb",
   "metadata": {},
   "outputs": [],
   "source": [
    "s={1,2,3,4,5,6,7,8,9}  #set interger\n",
    "s1={2.1,2.5,6.7,4.8,6.5,9.4,} #float\n",
    "s2={\"soham\",\"rohit\",\"prasad\"} #string\n",
    "s3={20+5j,65+7j,9+33j} #complex\n",
    "s4={1,23,5.6,9.6,7,'soham','rohit',45,2.2,45+4j}  #mixed values"
   ]
  },
  {
   "cell_type": "code",
   "execution_count": 214,
   "id": "658f1250-f257-4681-a33e-652d360f785b",
   "metadata": {},
   "outputs": [
    {
     "name": "stdout",
     "output_type": "stream",
     "text": [
      "{1, 2, 3, 4, 5, 6, 7, 8, 9}\n",
      "{2.1, 2.5, 4.8, 6.7, 6.5, 9.4}\n",
      "{'rohit', 'prasad', 'soham'}\n",
      "{(20+5j), (9+33j), (65+7j)}\n",
      "{1, 2.2, 'rohit', 5.6, 7, 9.6, 45, 'soham', 23, (45+4j)}\n"
     ]
    }
   ],
   "source": [
    "print(s)\n",
    "print(s1)\n",
    "print(s2)\n",
    "print(s3)\n",
    "print(s4)"
   ]
  },
  {
   "cell_type": "code",
   "execution_count": 216,
   "id": "97c1bed6-0f28-4283-a3e3-e2ae3ca27d6c",
   "metadata": {},
   "outputs": [
    {
     "data": {
      "text/plain": [
       "9"
      ]
     },
     "execution_count": 216,
     "metadata": {},
     "output_type": "execute_result"
    }
   ],
   "source": [
    "len(s)  # total length set"
   ]
  },
  {
   "cell_type": "code",
   "execution_count": 220,
   "id": "6db88725-5e44-49d2-8c35-b915133996ac",
   "metadata": {},
   "outputs": [
    {
     "data": {
      "text/plain": [
       "{1, 2, 4, 22, 35, 65}"
      ]
     },
     "execution_count": 220,
     "metadata": {},
     "output_type": "execute_result"
    }
   ],
   "source": [
    "s5={1,22,2,2,1,22,65,1,35,4}  #not using for duplicate set of the length\n",
    "s5"
   ]
  },
  {
   "cell_type": "code",
   "execution_count": 222,
   "id": "eb6f809d-d8d9-4f2f-8f05-34d50198b6a6",
   "metadata": {},
   "outputs": [
    {
     "data": {
      "text/plain": [
       "{'prasad', 'rohit', 'soham'}"
      ]
     },
     "execution_count": 222,
     "metadata": {},
     "output_type": "execute_result"
    }
   ],
   "source": [
    "s2"
   ]
  },
  {
   "cell_type": "code",
   "execution_count": 232,
   "id": "4bcf9876-fb29-4bfe-a852-b04f5b381e37",
   "metadata": {},
   "outputs": [
    {
     "ename": "TypeError",
     "evalue": "unhashable type: 'list'",
     "output_type": "error",
     "traceback": [
      "\u001b[1;31m---------------------------------------------------------------------------\u001b[0m",
      "\u001b[1;31mTypeError\u001b[0m                                 Traceback (most recent call last)",
      "Cell \u001b[1;32mIn[232], line 1\u001b[0m\n\u001b[1;32m----> 1\u001b[0m s6\u001b[38;5;241m=\u001b[39m{\u001b[38;5;241m1\u001b[39m,\u001b[38;5;241m2\u001b[39m,\u001b[38;5;241m3\u001b[39m,[\u001b[38;5;241m5\u001b[39m,\u001b[38;5;241m6\u001b[39m,\u001b[38;5;241m7\u001b[39m,\u001b[38;5;241m8\u001b[39m]}\n\u001b[0;32m      2\u001b[0m s6\n",
      "\u001b[1;31mTypeError\u001b[0m: unhashable type: 'list'"
     ]
    }
   ],
   "source": [
    "s6={1,2,3,[5,6,7,8]}  # cannot be inside in side add in list not for insulted\n",
    "s6"
   ]
  },
  {
   "cell_type": "markdown",
   "id": "60fa1a9e-b189-450e-83ac-452de73e1476",
   "metadata": {},
   "source": [
    "set \n",
    "set for loop \n",
    "\n"
   ]
  },
  {
   "cell_type": "code",
   "execution_count": 234,
   "id": "ee2f8ded-28a0-4687-8eff-c28598b8db6f",
   "metadata": {},
   "outputs": [
    {
     "name": "stdout",
     "output_type": "stream",
     "text": [
      "1\n",
      "2\n",
      "3\n",
      "4\n",
      "5\n",
      "6\n",
      "7\n",
      "8\n",
      "9\n"
     ]
    }
   ],
   "source": [
    "for i in s:   # list for the row formate data \n",
    "    print(i)"
   ]
  },
  {
   "cell_type": "markdown",
   "id": "2ec6bdc1-1608-4d30-83e7-6ff990697242",
   "metadata": {},
   "source": [
    "for i in enumerate(s):   # 0 starting of the data total count for enumarate set \n",
    "    print(i)"
   ]
  },
  {
   "cell_type": "markdown",
   "id": "89b7cd4c-afd6-419f-af79-d7af40e055cc",
   "metadata": {},
   "source": [
    "set\n",
    "set membership\n",
    "*set true or false"
   ]
  },
  {
   "cell_type": "code",
   "execution_count": 242,
   "id": "2c8de104-6424-4b3b-a08c-9b55ea637dce",
   "metadata": {},
   "outputs": [
    {
     "data": {
      "text/plain": [
       "{1, 2, 3, 4, 5, 6, 7, 8, 9}"
      ]
     },
     "execution_count": 242,
     "metadata": {},
     "output_type": "execute_result"
    }
   ],
   "source": [
    "s"
   ]
  },
  {
   "cell_type": "code",
   "execution_count": 250,
   "id": "7204dc86-5356-40e8-8da1-fbb6f9691f9c",
   "metadata": {},
   "outputs": [
    {
     "data": {
      "text/plain": [
       "True"
      ]
     },
     "execution_count": 250,
     "metadata": {},
     "output_type": "execute_result"
    }
   ],
   "source": [
    "5 in s    #find which no to insult first then set file true or false values show"
   ]
  },
  {
   "cell_type": "markdown",
   "id": "0e75fefd-7099-4809-8207-a57ae5950671",
   "metadata": {},
   "source": [
    "set\n",
    "membership using\n",
    "if else statment\n"
   ]
  },
  {
   "cell_type": "code",
   "execution_count": 252,
   "id": "5d8c607e-61fc-41a3-8b67-ae6a6733a9d3",
   "metadata": {},
   "outputs": [
    {
     "name": "stdout",
     "output_type": "stream",
     "text": [
      "yes\n"
     ]
    }
   ],
   "source": [
    "if 5 in s:              # if statement if or else to check print yes or no then send data \n",
    "    print(\"yes\")\n",
    "else:\n",
    "    print(\"no\")"
   ]
  },
  {
   "cell_type": "code",
   "execution_count": 254,
   "id": "fb925827-913f-444d-92d4-d496f5baecff",
   "metadata": {},
   "outputs": [
    {
     "name": "stdout",
     "output_type": "stream",
     "text": [
      "no\n"
     ]
    }
   ],
   "source": [
    "if 0 in s:              # if statement if or else to check print yes or no then send data \n",
    "    print(\"yes\")\n",
    "else:\n",
    "    print(\"no\")"
   ]
  },
  {
   "cell_type": "markdown",
   "id": "e763f4df-9817-43cf-b242-a3df37cdb703",
   "metadata": {},
   "source": [
    "set of funtion\n",
    "add(),removea(),clear(),copy()"
   ]
  },
  {
   "cell_type": "code",
   "execution_count": 256,
   "id": "9e91da05-d9a2-47d0-9513-42007ea08a0a",
   "metadata": {},
   "outputs": [
    {
     "data": {
      "text/plain": [
       "{1, 2, 3, 4, 5, 6, 7, 8, 9}"
      ]
     },
     "execution_count": 256,
     "metadata": {},
     "output_type": "execute_result"
    }
   ],
   "source": [
    "s"
   ]
  },
  {
   "cell_type": "code",
   "execution_count": 262,
   "id": "6d2189df-28b5-49aa-a19d-b0edb14a1bbb",
   "metadata": {},
   "outputs": [
    {
     "data": {
      "text/plain": [
       "{1, 2, 3, 4, 5, 6, 7, 8, 9, 10}"
      ]
     },
     "execution_count": 262,
     "metadata": {},
     "output_type": "execute_result"
    }
   ],
   "source": [
    "s.add(10)    # add an element on the set\n",
    "s"
   ]
  },
  {
   "cell_type": "code",
   "execution_count": 264,
   "id": "b73e5ad7-0228-4d28-86a6-16ca72c4d08a",
   "metadata": {},
   "outputs": [
    {
     "data": {
      "text/plain": [
       "{1, 2, 3, 4, 5, 6, 7, 8, 9}"
      ]
     },
     "execution_count": 264,
     "metadata": {},
     "output_type": "execute_result"
    }
   ],
   "source": [
    "s.remove(10)      #remove the element thet you give as argu\n",
    "s"
   ]
  },
  {
   "cell_type": "code",
   "execution_count": 272,
   "id": "8f845660-1464-4831-93c2-d516dc89def7",
   "metadata": {},
   "outputs": [
    {
     "data": {
      "text/plain": [
       "set()"
      ]
     },
     "execution_count": 272,
     "metadata": {},
     "output_type": "execute_result"
    }
   ],
   "source": [
    "s.clear()       # clear all the elment of the set\n",
    "s"
   ]
  },
  {
   "cell_type": "code",
   "execution_count": 285,
   "id": "e6c195f0-78d6-48ab-aad2-bc0e4c79701a",
   "metadata": {},
   "outputs": [
    {
     "ename": "TypeError",
     "evalue": "set.add() takes exactly one argument (9 given)",
     "output_type": "error",
     "traceback": [
      "\u001b[1;31m---------------------------------------------------------------------------\u001b[0m",
      "\u001b[1;31mTypeError\u001b[0m                                 Traceback (most recent call last)",
      "Cell \u001b[1;32mIn[285], line 1\u001b[0m\n\u001b[1;32m----> 1\u001b[0m s\u001b[38;5;241m.\u001b[39madd(\u001b[38;5;241m1\u001b[39m,\u001b[38;5;241m2\u001b[39m,\u001b[38;5;241m3\u001b[39m,\u001b[38;5;241m4\u001b[39m,\u001b[38;5;241m5\u001b[39m,\u001b[38;5;241m6\u001b[39m,\u001b[38;5;241m7\u001b[39m,\u001b[38;5;241m8\u001b[39m,\u001b[38;5;241m9\u001b[39m);  \u001b[38;5;66;03m# we canot pass more the one argument in add function\u001b[39;00m\n\u001b[0;32m      2\u001b[0m s\n",
      "\u001b[1;31mTypeError\u001b[0m: set.add() takes exactly one argument (9 given)"
     ]
    }
   ],
   "source": [
    "s.add(1,2,3,4,5,6,7,8,9);  # we canot pass more the one argument in add function\n",
    "s"
   ]
  },
  {
   "cell_type": "code",
   "execution_count": 287,
   "id": "65efc120-d55f-4216-9faa-4213ec5f5c54",
   "metadata": {},
   "outputs": [
    {
     "data": {
      "text/plain": [
       "{1, 2, 3, 4, 5, 6}"
      ]
     },
     "execution_count": 287,
     "metadata": {},
     "output_type": "execute_result"
    }
   ],
   "source": [
    "s.add(1)     #add many time to element of set \n",
    "s.add(2)\n",
    "s.add(3)\n",
    "s.add(4)\n",
    "s.add(5)\n",
    "s.add(6)\n",
    "s"
   ]
  },
  {
   "cell_type": "code",
   "execution_count": 289,
   "id": "f0783426-9ca5-4cb2-9cac-aad2d4db393c",
   "metadata": {},
   "outputs": [
    {
     "data": {
      "text/plain": [
       "{1, 2, 3, 4, 5, 6}"
      ]
     },
     "execution_count": 289,
     "metadata": {},
     "output_type": "execute_result"
    }
   ],
   "source": [
    "s"
   ]
  },
  {
   "cell_type": "markdown",
   "id": "90a0933d-e10a-4ba3-bf86-b4c62cec464d",
   "metadata": {},
   "source": [
    "set  operation\n",
    "*union                 (\"|\")\n",
    "*intersection          (\"&\")\n",
    "*difference            (\"-\")\n",
    "*symmetric_difference\n",
    "*issubset              \n",
    "*issuperset           \n",
    "*isdisjoint          "
   ]
  },
  {
   "cell_type": "code",
   "execution_count": 291,
   "id": "40f8b30a-64f1-4b7b-aec0-11ae807b20aa",
   "metadata": {},
   "outputs": [],
   "source": [
    "s1={1,2,3,4,5,6}\n",
    "s2={5,6,7,8,9}"
   ]
  },
  {
   "cell_type": "code",
   "execution_count": 293,
   "id": "fdade81a-1bc0-45b8-ad89-abb035a2a597",
   "metadata": {},
   "outputs": [
    {
     "name": "stdout",
     "output_type": "stream",
     "text": [
      "{1, 2, 3, 4, 5, 6}\n",
      "{5, 6, 7, 8, 9}\n"
     ]
    }
   ],
   "source": [
    "print(s1)\n",
    "print(s2)"
   ]
  },
  {
   "cell_type": "code",
   "execution_count": 295,
   "id": "20e29cf6-3bf3-4ea9-8a73-ebba11243410",
   "metadata": {},
   "outputs": [
    {
     "data": {
      "text/plain": [
       "{1, 2, 3, 4, 5, 6, 7, 8, 9}"
      ]
     },
     "execution_count": 295,
     "metadata": {},
     "output_type": "execute_result"
    }
   ],
   "source": [
    "s1.union(s2)   #it combine all the element into one set taking duplicate at once"
   ]
  },
  {
   "cell_type": "code",
   "execution_count": 297,
   "id": "a0b40116-915a-4b2c-986b-51212e4bd544",
   "metadata": {},
   "outputs": [
    {
     "data": {
      "text/plain": [
       "{1, 2, 3, 4, 5, 6, 7, 8, 9}"
      ]
     },
     "execution_count": 297,
     "metadata": {},
     "output_type": "execute_result"
    }
   ],
   "source": [
    "s1|s2         #union"
   ]
  },
  {
   "cell_type": "code",
   "execution_count": 299,
   "id": "00a08000-bca5-42c8-a72c-9ae43fc011be",
   "metadata": {},
   "outputs": [
    {
     "data": {
      "text/plain": [
       "{5, 6}"
      ]
     },
     "execution_count": 299,
     "metadata": {},
     "output_type": "execute_result"
    }
   ],
   "source": [
    "s1.intersection(s2)    # take only the common element"
   ]
  },
  {
   "cell_type": "code",
   "execution_count": 301,
   "id": "b5b01503-49c4-4fa3-8406-4c48d248da12",
   "metadata": {},
   "outputs": [
    {
     "data": {
      "text/plain": [
       "{5, 6}"
      ]
     },
     "execution_count": 301,
     "metadata": {},
     "output_type": "execute_result"
    }
   ],
   "source": [
    "s1&s2        #intersection"
   ]
  },
  {
   "cell_type": "code",
   "execution_count": 303,
   "id": "f1be97f8-f765-4b33-9088-3a0976ab659d",
   "metadata": {},
   "outputs": [
    {
     "data": {
      "text/plain": [
       "{1, 2, 3, 4}"
      ]
     },
     "execution_count": 303,
     "metadata": {},
     "output_type": "execute_result"
    }
   ],
   "source": [
    "s1.difference(s2)  # it show only the element present in set1 excepting the common element"
   ]
  },
  {
   "cell_type": "code",
   "execution_count": 305,
   "id": "9ad8d7d6-183c-4c8a-b278-e075bf426cf8",
   "metadata": {},
   "outputs": [
    {
     "data": {
      "text/plain": [
       "{1, 2, 3, 4}"
      ]
     },
     "execution_count": 305,
     "metadata": {},
     "output_type": "execute_result"
    }
   ],
   "source": [
    "s1-s2        "
   ]
  },
  {
   "cell_type": "code",
   "execution_count": 307,
   "id": "14254b8f-98cd-4d1d-83f7-bb169c8f0824",
   "metadata": {},
   "outputs": [
    {
     "data": {
      "text/plain": [
       "{7, 8, 9}"
      ]
     },
     "execution_count": 307,
     "metadata": {},
     "output_type": "execute_result"
    }
   ],
   "source": [
    "s2-s1"
   ]
  },
  {
   "cell_type": "code",
   "execution_count": 311,
   "id": "aaf9cead-ce61-4843-9767-c679f5192139",
   "metadata": {},
   "outputs": [
    {
     "data": {
      "text/plain": [
       "{1, 2, 3, 4, 7, 8, 9}"
      ]
     },
     "execution_count": 311,
     "metadata": {},
     "output_type": "execute_result"
    }
   ],
   "source": [
    "s1.symmetric_difference(s2)     # except the not given common element all element"
   ]
  },
  {
   "cell_type": "code",
   "execution_count": 327,
   "id": "078a301e-a5f0-4299-9500-ae5cb0b8f369",
   "metadata": {},
   "outputs": [
    {
     "data": {
      "text/plain": [
       "{1, 2, 3, 4, 5, 6, 7, 8, 9}"
      ]
     },
     "execution_count": 327,
     "metadata": {},
     "output_type": "execute_result"
    }
   ],
   "source": [
    "s2.add(1)\n",
    "s2.add(2)\n",
    "s2.add(3)\n",
    "s2.add(4)\n",
    "s2"
   ]
  },
  {
   "cell_type": "code",
   "execution_count": 329,
   "id": "65baf7e3-b1c8-446d-afe9-124ad00f1c7e",
   "metadata": {},
   "outputs": [
    {
     "name": "stdout",
     "output_type": "stream",
     "text": [
      "{1, 2, 3, 4, 5, 6}\n",
      "{1, 2, 3, 4, 5, 6, 7, 8, 9}\n"
     ]
    }
   ],
   "source": [
    "print(s1)\n",
    "print(s2)"
   ]
  },
  {
   "cell_type": "code",
   "execution_count": 331,
   "id": "2c73f953-9018-4ecd-bcff-f392335f6454",
   "metadata": {},
   "outputs": [
    {
     "data": {
      "text/plain": [
       "True"
      ]
     },
     "execution_count": 331,
     "metadata": {},
     "output_type": "execute_result"
    }
   ],
   "source": [
    "s1.issubset(s2)  #all element s1 or s2 same then true other wise false"
   ]
  },
  {
   "cell_type": "code",
   "execution_count": 341,
   "id": "a2505c41-670b-41d1-b9af-259694122db8",
   "metadata": {},
   "outputs": [
    {
     "data": {
      "text/plain": [
       "False"
      ]
     },
     "execution_count": 341,
     "metadata": {},
     "output_type": "execute_result"
    }
   ],
   "source": [
    "s1.issuperset(s2)   #all in set2 some element of set1 are there"
   ]
  },
  {
   "cell_type": "code",
   "execution_count": 333,
   "id": "4449c65b-173c-475f-b240-43d239c25a25",
   "metadata": {},
   "outputs": [
    {
     "data": {
      "text/plain": [
       "{1, 2, 3, 4, 5, 6}"
      ]
     },
     "execution_count": 333,
     "metadata": {},
     "output_type": "execute_result"
    }
   ],
   "source": [
    "s1"
   ]
  },
  {
   "cell_type": "code",
   "execution_count": 335,
   "id": "290c2b60-b9bb-4b77-92ba-5b8a4e4c6945",
   "metadata": {},
   "outputs": [
    {
     "data": {
      "text/plain": [
       "{1, 2, 3, 4, 5, 6, 7, 8, 9}"
      ]
     },
     "execution_count": 335,
     "metadata": {},
     "output_type": "execute_result"
    }
   ],
   "source": [
    "s2"
   ]
  },
  {
   "cell_type": "code",
   "execution_count": 337,
   "id": "4cdbecda-3f91-48df-9bbe-3cba27210d1c",
   "metadata": {},
   "outputs": [
    {
     "data": {
      "text/plain": [
       "{5, 6, 7, 8, 9}"
      ]
     },
     "execution_count": 337,
     "metadata": {},
     "output_type": "execute_result"
    }
   ],
   "source": [
    "s2.remove(1)\n",
    "s2.remove(2)\n",
    "s2.remove(3)\n",
    "s2.remove(4)\n",
    "s2"
   ]
  },
  {
   "cell_type": "code",
   "execution_count": 339,
   "id": "13f18b5b-9c07-4064-b82b-adc98cac4207",
   "metadata": {},
   "outputs": [
    {
     "data": {
      "text/plain": [
       "{5, 6, 7, 8, 9}"
      ]
     },
     "execution_count": 339,
     "metadata": {},
     "output_type": "execute_result"
    }
   ],
   "source": [
    "s2"
   ]
  },
  {
   "cell_type": "code",
   "execution_count": 343,
   "id": "ab57c317-0789-4ab1-8a4b-9249654cfd9a",
   "metadata": {},
   "outputs": [
    {
     "data": {
      "text/plain": [
       "False"
      ]
     },
     "execution_count": 343,
     "metadata": {},
     "output_type": "execute_result"
    }
   ],
   "source": [
    "s1.isdisjoint(s2)   # set1 element is different in set2 element"
   ]
  },
  {
   "cell_type": "code",
   "execution_count": 345,
   "id": "4c202511-4fb9-4541-8ffc-d1915864bba1",
   "metadata": {},
   "outputs": [
    {
     "data": {
      "text/plain": [
       "False"
      ]
     },
     "execution_count": 345,
     "metadata": {},
     "output_type": "execute_result"
    }
   ],
   "source": [
    "s2.isdisjoint(s1)"
   ]
  },
  {
   "cell_type": "markdown",
   "id": "e64e943e-3ee0-4cb1-b792-ad6991878e65",
   "metadata": {},
   "source": [
    "set builtin funtion\n",
    "*sum()\n",
    "*max()\n",
    "*min()\n",
    "*len()\n",
    "*sorted()"
   ]
  },
  {
   "cell_type": "code",
   "execution_count": 347,
   "id": "75fb9a83-4149-41f6-99d5-9d2561139518",
   "metadata": {},
   "outputs": [
    {
     "data": {
      "text/plain": [
       "{1, 2, 3, 4, 5, 6}"
      ]
     },
     "execution_count": 347,
     "metadata": {},
     "output_type": "execute_result"
    }
   ],
   "source": [
    "s1"
   ]
  },
  {
   "cell_type": "code",
   "execution_count": 349,
   "id": "ded3bae8-bbc9-440f-b9da-b96246385d2c",
   "metadata": {},
   "outputs": [
    {
     "data": {
      "text/plain": [
       "21"
      ]
     },
     "execution_count": 349,
     "metadata": {},
     "output_type": "execute_result"
    }
   ],
   "source": [
    "sum(s1)  #total sum of value length"
   ]
  },
  {
   "cell_type": "code",
   "execution_count": 351,
   "id": "8944a74f-c831-4a46-8f9a-8a3cdd7ff875",
   "metadata": {},
   "outputs": [
    {
     "data": {
      "text/plain": [
       "6"
      ]
     },
     "execution_count": 351,
     "metadata": {},
     "output_type": "execute_result"
    }
   ],
   "source": [
    "max(s1)   #total hight value of the set"
   ]
  },
  {
   "cell_type": "code",
   "execution_count": 353,
   "id": "6ce8ac95-c845-4cd2-9834-a3a132b9657d",
   "metadata": {},
   "outputs": [
    {
     "data": {
      "text/plain": [
       "1"
      ]
     },
     "execution_count": 353,
     "metadata": {},
     "output_type": "execute_result"
    }
   ],
   "source": [
    "min(s1)   #total small value the set"
   ]
  },
  {
   "cell_type": "code",
   "execution_count": 355,
   "id": "37646fb0-f8b2-427d-b156-99e8a5b9d8c4",
   "metadata": {},
   "outputs": [
    {
     "data": {
      "text/plain": [
       "6"
      ]
     },
     "execution_count": 355,
     "metadata": {},
     "output_type": "execute_result"
    }
   ],
   "source": [
    "len(s1)  #total lenth of the set"
   ]
  },
  {
   "cell_type": "code",
   "execution_count": 357,
   "id": "29ee2eaa-3aa7-472f-ac5a-3926b5bfcfce",
   "metadata": {},
   "outputs": [
    {
     "data": {
      "text/plain": [
       "[1, 2, 3, 4, 5, 6]"
      ]
     },
     "execution_count": 357,
     "metadata": {},
     "output_type": "execute_result"
    }
   ],
   "source": [
    "sorted(s1)   #total lenth of asecnding order values"
   ]
  },
  {
   "cell_type": "code",
   "execution_count": 359,
   "id": "d6bca79f-5062-4f0a-bb9e-60238e7433a4",
   "metadata": {},
   "outputs": [
    {
     "data": {
      "text/plain": [
       "[6, 5, 4, 3, 2, 1]"
      ]
     },
     "execution_count": 359,
     "metadata": {},
     "output_type": "execute_result"
    }
   ],
   "source": [
    "sorted(s1,reverse=True)   #total lenth of decending order values"
   ]
  },
  {
   "cell_type": "markdown",
   "id": "7e2797db-afa5-4cbf-aaee-adf15281e7a5",
   "metadata": {},
   "source": [
    "set\n",
    "dictionary {}\n",
    "asign values in key pair formated\n",
    "dic_name={key1 : val1 , key2 : val2}\n",
    "\n",
    "*keys\n",
    "*values\n",
    "*items\n"
   ]
  },
  {
   "cell_type": "code",
   "execution_count": 365,
   "id": "1616add3-2133-4f8b-b3e4-03bc8b445a3b",
   "metadata": {},
   "outputs": [
    {
     "data": {
      "text/plain": [
       "dict"
      ]
     },
     "execution_count": 365,
     "metadata": {},
     "output_type": "execute_result"
    }
   ],
   "source": [
    "d={}\n",
    "type(d)"
   ]
  },
  {
   "cell_type": "code",
   "execution_count": 367,
   "id": "666a0536-9bf2-4407-a7bb-f6f3d6c10e89",
   "metadata": {},
   "outputs": [
    {
     "data": {
      "text/plain": [
       "{1: 'one', 2: 'two', 3: 'three', 4: 'four', 5: 'five', 6: 'six'}"
      ]
     },
     "execution_count": 367,
     "metadata": {},
     "output_type": "execute_result"
    }
   ],
   "source": [
    "d={1 : \"one\",2 : \"two\",3 : \"three\",4 :\"four\",5 : \"five\",6 : \"six\"}\n",
    "d"
   ]
  },
  {
   "cell_type": "code",
   "execution_count": 369,
   "id": "fe960290-b0e3-4bd4-98a8-e7122c0539c6",
   "metadata": {},
   "outputs": [
    {
     "data": {
      "text/plain": [
       "dict_keys([1, 2, 3, 4, 5, 6])"
      ]
     },
     "execution_count": 369,
     "metadata": {},
     "output_type": "execute_result"
    }
   ],
   "source": [
    "d.keys()  #intger keys values of show in case "
   ]
  },
  {
   "cell_type": "code",
   "execution_count": 371,
   "id": "b07f8ea2-62c0-419e-93b9-5ba82c68f2df",
   "metadata": {},
   "outputs": [
    {
     "data": {
      "text/plain": [
       "dict_values(['one', 'two', 'three', 'four', 'five', 'six'])"
      ]
     },
     "execution_count": 371,
     "metadata": {},
     "output_type": "execute_result"
    }
   ],
   "source": [
    "d.values() #float values of shows in case"
   ]
  },
  {
   "cell_type": "code",
   "execution_count": 373,
   "id": "1aaf07e2-df59-41e5-aea5-cd4a7d730612",
   "metadata": {},
   "outputs": [
    {
     "data": {
      "text/plain": [
       "dict_items([(1, 'one'), (2, 'two'), (3, 'three'), (4, 'four'), (5, 'five'), (6, 'six')])"
      ]
     },
     "execution_count": 373,
     "metadata": {},
     "output_type": "execute_result"
    }
   ],
   "source": [
    "d.items()  #mixed values of the total lenth of the data"
   ]
  },
  {
   "cell_type": "code",
   "execution_count": 375,
   "id": "7e3743a7-d838-4246-ad41-9ce511e208f5",
   "metadata": {},
   "outputs": [
    {
     "name": "stdout",
     "output_type": "stream",
     "text": [
      "1\n",
      "2\n",
      "3\n",
      "4\n",
      "5\n",
      "6\n"
     ]
    }
   ],
   "source": [
    "for i in d:   # total int values of keys\n",
    "    print(i)"
   ]
  },
  {
   "cell_type": "code",
   "execution_count": 381,
   "id": "32e003cf-bf70-48c6-8390-3383f23d8a6d",
   "metadata": {},
   "outputs": [
    {
     "name": "stdout",
     "output_type": "stream",
     "text": [
      "one\n",
      "two\n",
      "three\n",
      "four\n",
      "five\n",
      "six\n"
     ]
    }
   ],
   "source": [
    "for i in d:       # total float values of set\n",
    "    print(d[i])"
   ]
  },
  {
   "cell_type": "code",
   "execution_count": 386,
   "id": "f3d25510-10e5-47b7-b8f4-f70d4975de0a",
   "metadata": {},
   "outputs": [],
   "source": [
    "dict=d.copy()  # name is changed  and copy "
   ]
  },
  {
   "cell_type": "code",
   "execution_count": 388,
   "id": "ae3c516b-ae72-4035-a720-d5959eb7cf3d",
   "metadata": {},
   "outputs": [
    {
     "data": {
      "text/plain": [
       "{1: 'one', 2: 'two', 3: 'three', 4: 'four', 5: 'five', 6: 'six'}"
      ]
     },
     "execution_count": 388,
     "metadata": {},
     "output_type": "execute_result"
    }
   ],
   "source": [
    "dict"
   ]
  },
  {
   "cell_type": "code",
   "execution_count": 390,
   "id": "2c38b3b5-3005-405f-9a7b-4b2b8defdd30",
   "metadata": {},
   "outputs": [],
   "source": [
    "d.clear() #clear of all data length of set"
   ]
  },
  {
   "cell_type": "code",
   "execution_count": 392,
   "id": "9d5d2533-fbfe-47f8-94a7-450927bf9042",
   "metadata": {},
   "outputs": [
    {
     "data": {
      "text/plain": [
       "{}"
      ]
     },
     "execution_count": 392,
     "metadata": {},
     "output_type": "execute_result"
    }
   ],
   "source": [
    "d"
   ]
  },
  {
   "cell_type": "code",
   "execution_count": 402,
   "id": "2d174ad7-aa6e-4807-974a-eb298f6c4ab7",
   "metadata": {},
   "outputs": [
    {
     "data": {
      "text/plain": [
       "'three'"
      ]
     },
     "execution_count": 402,
     "metadata": {},
     "output_type": "execute_result"
    }
   ],
   "source": [
    "dict.get(3)  # copy of data can clear by then show get data set"
   ]
  },
  {
   "cell_type": "code",
   "execution_count": 408,
   "id": "b5c13a36-2f3f-492e-beff-e25d94d12a67",
   "metadata": {},
   "outputs": [
    {
     "data": {
      "text/plain": [
       "{1: 'one', 2: 'two', 3: 'three', 4: 'four', 5: 'five', 6: 'six'}"
      ]
     },
     "execution_count": 408,
     "metadata": {},
     "output_type": "execute_result"
    }
   ],
   "source": [
    "dict     "
   ]
  },
  {
   "cell_type": "markdown",
   "id": "9eeb135b-8e23-439f-aa82-ea5ae5c512c2",
   "metadata": {},
   "source": [
    "dict.pop(6)      #pop means the data can delect of set "
   ]
  },
  {
   "cell_type": "code",
   "execution_count": 412,
   "id": "a19a0af9-3757-4221-85f6-6efc81aeffcc",
   "metadata": {},
   "outputs": [
    {
     "data": {
      "text/plain": [
       "{1: 'one', 2: 'two', 3: 'three', 4: 'four', 5: 'five'}"
      ]
     },
     "execution_count": 412,
     "metadata": {},
     "output_type": "execute_result"
    }
   ],
   "source": [
    "dict"
   ]
  },
  {
   "cell_type": "code",
   "execution_count": 418,
   "id": "85349eac-3a4c-4a03-8296-a3206c94277f",
   "metadata": {},
   "outputs": [
    {
     "data": {
      "text/plain": [
       "{1: 'one', 2: 'two', 3: 'three', 4: 'four', 5: 'five'}"
      ]
     },
     "execution_count": 418,
     "metadata": {},
     "output_type": "execute_result"
    }
   ],
   "source": [
    "d = {1: 'one', 2: 'two', 3: 'three', 4: 'four', 5: 'five'}\n",
    "d"
   ]
  },
  {
   "cell_type": "code",
   "execution_count": 425,
   "id": "3c680312-b2a1-471c-b961-514e7ca4732e",
   "metadata": {},
   "outputs": [],
   "source": [
    "keys = 1,2,3,4,5,6,7,8,9,10       #assending order list of keys\n",
    "values = \"soham\"\n",
    "d =dict.fromkeys(keys,values)"
   ]
  },
  {
   "cell_type": "code",
   "execution_count": 427,
   "id": "c79bc032-528c-46bf-a59b-4b0153fbf06c",
   "metadata": {},
   "outputs": [
    {
     "data": {
      "text/plain": [
       "{1: 'soham',\n",
       " 2: 'soham',\n",
       " 3: 'soham',\n",
       " 4: 'soham',\n",
       " 5: 'soham',\n",
       " 6: 'soham',\n",
       " 7: 'soham',\n",
       " 8: 'soham',\n",
       " 9: 'soham',\n",
       " 10: 'soham'}"
      ]
     },
     "execution_count": 427,
     "metadata": {},
     "output_type": "execute_result"
    }
   ],
   "source": [
    "d"
   ]
  },
  {
   "cell_type": "markdown",
   "id": "09d60e1b-33a8-4d61-bd50-d60b1da5ba8a",
   "metadata": {},
   "source": [
    "accending to values of key set"
   ]
  },
  {
   "cell_type": "code",
   "execution_count": 429,
   "id": "fd77b6f7-54f6-4b9c-a066-70a9e074407c",
   "metadata": {},
   "outputs": [],
   "source": [
    "d={1: 'one', 2: 'two', 3: 'three', 4: 'four', 5: 'five'}"
   ]
  },
  {
   "cell_type": "code",
   "execution_count": 431,
   "id": "7083d66c-d5a4-4ae6-b419-10a33fd1741f",
   "metadata": {},
   "outputs": [
    {
     "data": {
      "text/plain": [
       "{1: 'one', 2: 'two', 3: 'three', 4: 'four', 5: 'five'}"
      ]
     },
     "execution_count": 431,
     "metadata": {},
     "output_type": "execute_result"
    }
   ],
   "source": [
    "d"
   ]
  },
  {
   "cell_type": "code",
   "execution_count": 435,
   "id": "7d0133f9-36a7-48aa-8676-66d50321358b",
   "metadata": {},
   "outputs": [
    {
     "data": {
      "text/plain": [
       "'five'"
      ]
     },
     "execution_count": 435,
     "metadata": {},
     "output_type": "execute_result"
    }
   ],
   "source": [
    "d[5]    #int  values"
   ]
  },
  {
   "cell_type": "code",
   "execution_count": 437,
   "id": "f6958c60-d336-4fd0-bae0-b95ea250854a",
   "metadata": {},
   "outputs": [
    {
     "data": {
      "text/plain": [
       "'five'"
      ]
     },
     "execution_count": 437,
     "metadata": {},
     "output_type": "execute_result"
    }
   ],
   "source": [
    "d.get(5)   #float values"
   ]
  },
  {
   "cell_type": "code",
   "execution_count": 449,
   "id": "75d430af-4f2c-41e2-a191-28558a88fe95",
   "metadata": {},
   "outputs": [],
   "source": [
    "d={}                       # saving data for new method\n",
    "d[\"soham\"] = 'rohit'\n",
    "d[\"computer\"] = 'engineering'\n",
    "d[\"age\"] = 21\n",
    "d[\"dob\"] = '31/07/2024'"
   ]
  },
  {
   "cell_type": "code",
   "execution_count": 443,
   "id": "a3fec7cc-c75f-4646-820f-71157d382032",
   "metadata": {},
   "outputs": [
    {
     "data": {
      "text/plain": [
       "{'soham': 'rohit', 'computer': 'engineering', 'age': '21', 'dob': '31/07/2024'}"
      ]
     },
     "execution_count": 443,
     "metadata": {},
     "output_type": "execute_result"
    }
   ],
   "source": [
    "d"
   ]
  },
  {
   "cell_type": "code",
   "execution_count": 451,
   "id": "ecfe43da-0e5e-4bd8-9ba8-140d9621a032",
   "metadata": {},
   "outputs": [],
   "source": [
    "d[\"soham\"] = 'rohit prasad'"
   ]
  },
  {
   "cell_type": "code",
   "execution_count": 453,
   "id": "2c664cd2-44b3-417e-8c1f-c38416523479",
   "metadata": {},
   "outputs": [
    {
     "data": {
      "text/plain": [
       "{'soham': 'rohit prasad',\n",
       " 'computer': 'engineering',\n",
       " 'age': 21,\n",
       " 'dob': '31/07/2024'}"
      ]
     },
     "execution_count": 453,
     "metadata": {},
     "output_type": "execute_result"
    }
   ],
   "source": [
    "d       # update the value in he dictionary"
   ]
  },
  {
   "cell_type": "code",
   "execution_count": 455,
   "id": "e9e8a456-bda7-49db-bf96-224f41cff008",
   "metadata": {},
   "outputs": [],
   "source": [
    "d[\"salary\"] = '100k'"
   ]
  },
  {
   "cell_type": "code",
   "execution_count": 457,
   "id": "faa96a9f-1afb-48cd-8e19-f6a94474e9f9",
   "metadata": {},
   "outputs": [
    {
     "data": {
      "text/plain": [
       "{'soham': 'rohit prasad',\n",
       " 'computer': 'engineering',\n",
       " 'age': 21,\n",
       " 'dob': '31/07/2024',\n",
       " 'salary': '100k'}"
      ]
     },
     "execution_count": 457,
     "metadata": {},
     "output_type": "execute_result"
    }
   ],
   "source": [
    "d        # add any items into the dictionary"
   ]
  },
  {
   "cell_type": "code",
   "execution_count": 459,
   "id": "741b8630-bcbb-487f-a677-18eeae7e48d3",
   "metadata": {},
   "outputs": [
    {
     "data": {
      "text/plain": [
       "'31/07/2024'"
      ]
     },
     "execution_count": 459,
     "metadata": {},
     "output_type": "execute_result"
    }
   ],
   "source": [
    "d.pop(\"dob\")   # delete the item of data keys"
   ]
  },
  {
   "cell_type": "code",
   "execution_count": 461,
   "id": "c1717b5b-30d6-4e59-9bd5-d4a7ddc0ac9d",
   "metadata": {},
   "outputs": [
    {
     "data": {
      "text/plain": [
       "{'soham': 'rohit prasad',\n",
       " 'computer': 'engineering',\n",
       " 'age': 21,\n",
       " 'salary': '100k'}"
      ]
     },
     "execution_count": 461,
     "metadata": {},
     "output_type": "execute_result"
    }
   ],
   "source": [
    "d"
   ]
  },
  {
   "cell_type": "code",
   "execution_count": 463,
   "id": "f7a4b058-1ccc-4751-ba89-1730f7c2d75e",
   "metadata": {},
   "outputs": [
    {
     "data": {
      "text/plain": [
       "('salary', '100k')"
      ]
     },
     "execution_count": 463,
     "metadata": {},
     "output_type": "execute_result"
    }
   ],
   "source": [
    "d.popitem()  #last item in the list"
   ]
  },
  {
   "cell_type": "code",
   "execution_count": 465,
   "id": "3dc72d92-b7eb-45b4-a453-77b0e0f1a3dc",
   "metadata": {},
   "outputs": [
    {
     "data": {
      "text/plain": [
       "{'soham': 'rohit prasad', 'computer': 'engineering', 'age': 21}"
      ]
     },
     "execution_count": 465,
     "metadata": {},
     "output_type": "execute_result"
    }
   ],
   "source": [
    "d"
   ]
  },
  {
   "cell_type": "code",
   "execution_count": 473,
   "id": "7cc09bcf-397e-4870-a036-1d63828e04a6",
   "metadata": {},
   "outputs": [],
   "source": [
    "d.clear()   #delete the item of keys"
   ]
  },
  {
   "cell_type": "code",
   "execution_count": 492,
   "id": "eb0b4ec0-5cce-4bce-91a7-2a53225e9e0f",
   "metadata": {},
   "outputs": [
    {
     "data": {
      "text/plain": [
       "{'soham': 'rohit prasad', 'computer': 'engineering', 'age': 21}"
      ]
     },
     "execution_count": 492,
     "metadata": {},
     "output_type": "execute_result"
    }
   ],
   "source": [
    "d={'soham': 'rohit prasad', 'computer': 'engineering', 'age': 21}\n",
    "\n",
    "d"
   ]
  },
  {
   "cell_type": "code",
   "execution_count": null,
   "id": "88160d8c-05ba-44ff-918f-70050d9d780e",
   "metadata": {},
   "outputs": [],
   "source": []
  },
  {
   "cell_type": "markdown",
   "id": "53bbd9b3-202d-4736-a4f8-055d3f3ea2e1",
   "metadata": {},
   "source": [
    "set \n",
    "dictionary membership\n",
    "* true or false"
   ]
  },
  {
   "cell_type": "code",
   "execution_count": 494,
   "id": "b9f36b9c-65d8-4c1f-b271-3aea76bf9679",
   "metadata": {},
   "outputs": [
    {
     "data": {
      "text/plain": [
       "True"
      ]
     },
     "execution_count": 494,
     "metadata": {},
     "output_type": "execute_result"
    }
   ],
   "source": [
    "'age'in d  # searching values of show to check by keys"
   ]
  },
  {
   "cell_type": "code",
   "execution_count": 496,
   "id": "8587beb2-16e0-41b3-8057-a9135ca65885",
   "metadata": {},
   "outputs": [
    {
     "data": {
      "text/plain": [
       "True"
      ]
     },
     "execution_count": 496,
     "metadata": {},
     "output_type": "execute_result"
    }
   ],
   "source": [
    "'soham' in d   #secrching values of true or false data "
   ]
  },
  {
   "cell_type": "markdown",
   "id": "f1286d6f-ad6a-4ef7-a744-916169fd7efe",
   "metadata": {},
   "source": [
    "set\n",
    "*any\n",
    "*all"
   ]
  },
  {
   "cell_type": "code",
   "execution_count": 498,
   "id": "8b43bb80-aa27-466f-847c-44d7ba258ea6",
   "metadata": {},
   "outputs": [
    {
     "data": {
      "text/plain": [
       "True"
      ]
     },
     "execution_count": 498,
     "metadata": {},
     "output_type": "execute_result"
    }
   ],
   "source": [
    "all(d)"
   ]
  },
  {
   "cell_type": "code",
   "execution_count": 500,
   "id": "2d3f80be-5b17-42b3-9802-59590d02fc73",
   "metadata": {},
   "outputs": [
    {
     "data": {
      "text/plain": [
       "True"
      ]
     },
     "execution_count": 500,
     "metadata": {},
     "output_type": "execute_result"
    }
   ],
   "source": [
    "any(d)"
   ]
  },
  {
   "cell_type": "code",
   "execution_count": null,
   "id": "6fc48e7d-c315-4811-b383-ca7fc05a696e",
   "metadata": {},
   "outputs": [],
   "source": []
  }
 ],
 "metadata": {
  "kernelspec": {
   "display_name": "Python 3 (ipykernel)",
   "language": "python",
   "name": "python3"
  },
  "language_info": {
   "codemirror_mode": {
    "name": "ipython",
    "version": 3
   },
   "file_extension": ".py",
   "mimetype": "text/x-python",
   "name": "python",
   "nbconvert_exporter": "python",
   "pygments_lexer": "ipython3",
   "version": "3.12.4"
  }
 },
 "nbformat": 4,
 "nbformat_minor": 5
}
